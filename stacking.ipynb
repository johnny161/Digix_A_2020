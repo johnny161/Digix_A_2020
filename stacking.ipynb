{
 "cells": [
  {
   "cell_type": "code",
   "execution_count": 1,
   "metadata": {},
   "outputs": [],
   "source": [
    "import pandas as pd\n",
    "import seaborn as sns\n",
    "from catboost import CatBoostClassifier\n",
    "from matplotlib import pyplot as plt\n",
    "from tqdm import tqdm\n",
    "import time\n",
    "import gc\n",
    "import numpy as np\n",
    "from scipy.stats import entropy\n",
    "from gensim.models import Word2Vec\n",
    "from sklearn.metrics import roc_auc_score\n",
    "from sklearn.preprocessing import LabelEncoder\n",
    "from sklearn.metrics import *\n",
    "from collections import Counter\n",
    "from sklearn.model_selection import train_test_split\n",
    "from sklearn.model_selection import StratifiedKFold"
   ]
  },
  {
   "cell_type": "code",
   "execution_count": 2,
   "metadata": {},
   "outputs": [],
   "source": [
    "def reduce_mem(df):\n",
    "    starttime = time.time()\n",
    "    numerics = ['int16', 'int32', 'int64', 'float16', 'float32', 'float64']\n",
    "    start_mem = df.memory_usage().sum() / 1024**2\n",
    "    for col in df.columns:\n",
    "        col_type = df[col].dtypes\n",
    "        if col_type in numerics:\n",
    "            c_min = df[col].min()\n",
    "            c_max = df[col].max()\n",
    "            if pd.isnull(c_min) or pd.isnull(c_max):\n",
    "                continue\n",
    "            if str(col_type)[:3] == 'int':\n",
    "                if c_min > np.iinfo(np.int8).min and c_max < np.iinfo(np.int8).max:\n",
    "                    df[col] = df[col].astype(np.int8)\n",
    "                elif c_min > np.iinfo(np.int16).min and c_max < np.iinfo(np.int16).max:\n",
    "                    df[col] = df[col].astype(np.int16)\n",
    "                elif c_min > np.iinfo(np.int32).min and c_max < np.iinfo(np.int32).max:\n",
    "                    df[col] = df[col].astype(np.int32)\n",
    "                elif c_min > np.iinfo(np.int64).min and c_max < np.iinfo(np.int64).max:\n",
    "                    df[col] = df[col].astype(np.int64)\n",
    "            else:\n",
    "                if c_min > np.finfo(np.float16).min and c_max < np.finfo(np.float16).max:\n",
    "                    df[col] = df[col].astype(np.float16)\n",
    "                elif c_min > np.finfo(np.float32).min and c_max < np.finfo(np.float32).max:\n",
    "                    df[col] = df[col].astype(np.float32)\n",
    "                else:\n",
    "                    df[col] = df[col].astype(np.float64)\n",
    "    end_mem = df.memory_usage().sum() / 1024**2\n",
    "    print('-- Mem. usage decreased to {:5.2f} Mb ({:.1f}% reduction),time spend:{:2.2f} min'.format(end_mem,\n",
    "                                                                                                           100*(start_mem-end_mem)/start_mem,\n",
    "                                                                                                           (time.time()-starttime)/60))\n",
    "    return df"
   ]
  },
  {
   "cell_type": "code",
   "execution_count": 3,
   "metadata": {},
   "outputs": [
    {
     "name": "stdout",
     "output_type": "stream",
     "text": [
      "(3944840, 36) (1972420, 36)\n"
     ]
    }
   ],
   "source": [
    "#  1v2采样的train_label seed=1997\n",
    "train_df = pd.read_pickle('../../data/train_data.pkl')\n",
    "train_label_0 = train_df[ train_df['label'] == 0 ]\n",
    "train_label_1 = train_df[ train_df['label'] == 1 ]\n",
    "MY_SEED = 2007\n",
    "train_label_0 = train_label_0.sample(n = 1972420*2 , random_state = MY_SEED).reset_index(drop=True)\n",
    "train_label_1 = train_label_1.sample(n = 1972420 , random_state = MY_SEED).reset_index(drop=True)\n",
    "print(train_label_0.shape, train_label_1.shape)\n",
    "train = pd.concat([train_label_0,train_label_1]).reset_index(drop=True)\n",
    "train = train.sample(frac = 1, random_state = MY_SEED+1 ).reset_index(drop=True)"
   ]
  },
  {
   "cell_type": "code",
   "execution_count": 4,
   "metadata": {},
   "outputs": [
    {
     "name": "stdout",
     "output_type": "stream",
     "text": [
      "-- Mem. usage decreased to  5.64 Mb (0.0% reduction),time spend:0.00 min\n"
     ]
    }
   ],
   "source": [
    "train_label = pd.DataFrame()\n",
    "train_label['probability'] = train.label\n",
    "train_label = reduce_mem(train_label)\n",
    "# train_label.to_csv('train_label.csv',index = False)\n",
    "# train_label.head(5)"
   ]
  },
  {
   "cell_type": "code",
   "execution_count": 5,
   "metadata": {},
   "outputs": [
    {
     "data": {
      "text/plain": [
       "(5917260, 1)"
      ]
     },
     "execution_count": 5,
     "metadata": {},
     "output_type": "execute_result"
    }
   ],
   "source": [
    "train_label.shape"
   ]
  },
  {
   "cell_type": "code",
   "execution_count": 6,
   "metadata": {},
   "outputs": [
    {
     "data": {
      "text/plain": [
       "'\\n以此这样把所有模型的训练预测值给添加进去\\n'"
      ]
     },
     "execution_count": 6,
     "metadata": {},
     "output_type": "execute_result"
    }
   ],
   "source": [
    "train_model1 = pd.read_csv('./3-cat_seed_+2007_train_pred__0.8183666881489253.csv')\n",
    "train_model2 = pd.read_csv('./cat_seed_+2007_train_pred__0.8159074903737941.csv')\n",
    "train_model3 = pd.read_csv('./cat_seed_+2007_train_pred__0.8180868298927768.csv')\n",
    "'''\n",
    "以此这样把所有模型的训练预测值给添加进去\n",
    "'''"
   ]
  },
  {
   "cell_type": "code",
   "execution_count": 7,
   "metadata": {},
   "outputs": [
    {
     "data": {
      "text/plain": [
       "'\\n以此这样把所有模型的测试预测值给添加进去\\n'"
      ]
     },
     "execution_count": 7,
     "metadata": {},
     "output_type": "execute_result"
    }
   ],
   "source": [
    "test_model1 = pd.read_csv('./3-cat_seed_+2007_test_pred_0.8183666881489253.csv')\n",
    "test_model2 = pd.read_csv('./cat_seed_+2007_test_pred_0.8159074903737941.csv')\n",
    "test_model3 = pd.read_csv('./cat_seed_+2007_test_pred_0.8180868298927768.csv')\n",
    "'''\n",
    "以此这样把所有模型的测试预测值给添加进去\n",
    "'''"
   ]
  },
  {
   "cell_type": "code",
   "execution_count": 10,
   "metadata": {},
   "outputs": [
    {
     "name": "stdout",
     "output_type": "stream",
     "text": [
      "(5917260, 3) (2000000, 3)\n"
     ]
    }
   ],
   "source": [
    "train_df = pd.concat([train_model1,train_model2,train_model3],axis=1)\n",
    "test_df = pd.concat([test_model1['probability'],test_model2['probability'],test_model3['probability']],axis=1)\n",
    "train_df.columns = ['m1', 'm2', 'm3']\n",
    "test_df.columns = ['m1', 'm2', 'm3']\n",
    "print(train_df.shape, test_df.shape)"
   ]
  },
  {
   "cell_type": "code",
   "execution_count": 11,
   "metadata": {},
   "outputs": [
    {
     "data": {
      "text/html": [
       "<div>\n",
       "<style scoped>\n",
       "    .dataframe tbody tr th:only-of-type {\n",
       "        vertical-align: middle;\n",
       "    }\n",
       "\n",
       "    .dataframe tbody tr th {\n",
       "        vertical-align: top;\n",
       "    }\n",
       "\n",
       "    .dataframe thead th {\n",
       "        text-align: right;\n",
       "    }\n",
       "</style>\n",
       "<table border=\"1\" class=\"dataframe\">\n",
       "  <thead>\n",
       "    <tr style=\"text-align: right;\">\n",
       "      <th></th>\n",
       "      <th>m1</th>\n",
       "      <th>m2</th>\n",
       "      <th>m3</th>\n",
       "    </tr>\n",
       "  </thead>\n",
       "  <tbody>\n",
       "    <tr>\n",
       "      <th>0</th>\n",
       "      <td>0.1146</td>\n",
       "      <td>0.10126</td>\n",
       "      <td>0.089653</td>\n",
       "    </tr>\n",
       "    <tr>\n",
       "      <th>1</th>\n",
       "      <td>0.1294</td>\n",
       "      <td>0.15120</td>\n",
       "      <td>0.181146</td>\n",
       "    </tr>\n",
       "    <tr>\n",
       "      <th>2</th>\n",
       "      <td>0.4897</td>\n",
       "      <td>0.45390</td>\n",
       "      <td>0.495355</td>\n",
       "    </tr>\n",
       "    <tr>\n",
       "      <th>3</th>\n",
       "      <td>0.4436</td>\n",
       "      <td>0.45300</td>\n",
       "      <td>0.488323</td>\n",
       "    </tr>\n",
       "    <tr>\n",
       "      <th>4</th>\n",
       "      <td>0.8790</td>\n",
       "      <td>0.85500</td>\n",
       "      <td>0.876855</td>\n",
       "    </tr>\n",
       "  </tbody>\n",
       "</table>\n",
       "</div>"
      ],
      "text/plain": [
       "       m1       m2        m3\n",
       "0  0.1146  0.10126  0.089653\n",
       "1  0.1294  0.15120  0.181146\n",
       "2  0.4897  0.45390  0.495355\n",
       "3  0.4436  0.45300  0.488323\n",
       "4  0.8790  0.85500  0.876855"
      ]
     },
     "execution_count": 11,
     "metadata": {},
     "output_type": "execute_result"
    }
   ],
   "source": [
    "train_df.head()"
   ]
  },
  {
   "cell_type": "code",
   "execution_count": 12,
   "metadata": {},
   "outputs": [
    {
     "data": {
      "text/html": [
       "<div>\n",
       "<style scoped>\n",
       "    .dataframe tbody tr th:only-of-type {\n",
       "        vertical-align: middle;\n",
       "    }\n",
       "\n",
       "    .dataframe tbody tr th {\n",
       "        vertical-align: top;\n",
       "    }\n",
       "\n",
       "    .dataframe thead th {\n",
       "        text-align: right;\n",
       "    }\n",
       "</style>\n",
       "<table border=\"1\" class=\"dataframe\">\n",
       "  <thead>\n",
       "    <tr style=\"text-align: right;\">\n",
       "      <th></th>\n",
       "      <th>m1</th>\n",
       "      <th>m2</th>\n",
       "      <th>m3</th>\n",
       "    </tr>\n",
       "  </thead>\n",
       "  <tbody>\n",
       "    <tr>\n",
       "      <th>0</th>\n",
       "      <td>0.05188</td>\n",
       "      <td>0.05658</td>\n",
       "      <td>0.057624</td>\n",
       "    </tr>\n",
       "    <tr>\n",
       "      <th>1</th>\n",
       "      <td>0.38160</td>\n",
       "      <td>0.35600</td>\n",
       "      <td>0.383842</td>\n",
       "    </tr>\n",
       "    <tr>\n",
       "      <th>2</th>\n",
       "      <td>0.26800</td>\n",
       "      <td>0.24980</td>\n",
       "      <td>0.338297</td>\n",
       "    </tr>\n",
       "    <tr>\n",
       "      <th>3</th>\n",
       "      <td>0.07650</td>\n",
       "      <td>0.10034</td>\n",
       "      <td>0.066307</td>\n",
       "    </tr>\n",
       "    <tr>\n",
       "      <th>4</th>\n",
       "      <td>0.55700</td>\n",
       "      <td>0.63000</td>\n",
       "      <td>0.539774</td>\n",
       "    </tr>\n",
       "  </tbody>\n",
       "</table>\n",
       "</div>"
      ],
      "text/plain": [
       "        m1       m2        m3\n",
       "0  0.05188  0.05658  0.057624\n",
       "1  0.38160  0.35600  0.383842\n",
       "2  0.26800  0.24980  0.338297\n",
       "3  0.07650  0.10034  0.066307\n",
       "4  0.55700  0.63000  0.539774"
      ]
     },
     "execution_count": 12,
     "metadata": {},
     "output_type": "execute_result"
    }
   ],
   "source": [
    "test_df.head()"
   ]
  },
  {
   "cell_type": "code",
   "execution_count": 13,
   "metadata": {},
   "outputs": [],
   "source": [
    "target = train_label['probability']"
   ]
  },
  {
   "cell_type": "markdown",
   "metadata": {},
   "source": [
    "# cbt stacking"
   ]
  },
  {
   "cell_type": "code",
   "execution_count": 14,
   "metadata": {},
   "outputs": [
    {
     "name": "stdout",
     "output_type": "stream",
     "text": [
      "fold n°0\n",
      "0:\tlearn: 0.8112265\ttest: 0.8105845\tbest: 0.8105845 (0)\ttotal: 36.1ms\tremaining: 6m\n",
      "50:\tlearn: 0.8189832\ttest: 0.8185407\tbest: 0.8185407 (50)\ttotal: 1.01s\tremaining: 3m 17s\n",
      "100:\tlearn: 0.8194079\ttest: 0.8189740\tbest: 0.8189744 (99)\ttotal: 1.97s\tremaining: 3m 13s\n",
      "150:\tlearn: 0.8194913\ttest: 0.8190612\tbest: 0.8190612 (150)\ttotal: 2.94s\tremaining: 3m 11s\n",
      "200:\tlearn: 0.8195128\ttest: 0.8190846\tbest: 0.8190846 (200)\ttotal: 3.87s\tremaining: 3m 8s\n",
      "250:\tlearn: 0.8195294\ttest: 0.8191004\tbest: 0.8191006 (249)\ttotal: 4.83s\tremaining: 3m 7s\n",
      "300:\tlearn: 0.8195406\ttest: 0.8191082\tbest: 0.8191082 (300)\ttotal: 5.78s\tremaining: 3m 6s\n",
      "350:\tlearn: 0.8195504\ttest: 0.8191168\tbest: 0.8191168 (350)\ttotal: 6.72s\tremaining: 3m 4s\n",
      "400:\tlearn: 0.8195587\ttest: 0.8191229\tbest: 0.8191229 (400)\ttotal: 7.59s\tremaining: 3m 1s\n",
      "450:\tlearn: 0.8195670\ttest: 0.8191290\tbest: 0.8191290 (450)\ttotal: 8.47s\tremaining: 2m 59s\n",
      "500:\tlearn: 0.8195757\ttest: 0.8191352\tbest: 0.8191352 (500)\ttotal: 9.34s\tremaining: 2m 57s\n",
      "550:\tlearn: 0.8195841\ttest: 0.8191413\tbest: 0.8191413 (549)\ttotal: 10.2s\tremaining: 2m 55s\n",
      "600:\tlearn: 0.8195913\ttest: 0.8191459\tbest: 0.8191459 (600)\ttotal: 11.1s\tremaining: 2m 53s\n",
      "650:\tlearn: 0.8195981\ttest: 0.8191501\tbest: 0.8191501 (649)\ttotal: 12s\tremaining: 2m 51s\n",
      "700:\tlearn: 0.8196042\ttest: 0.8191537\tbest: 0.8191537 (700)\ttotal: 12.9s\tremaining: 2m 50s\n",
      "750:\tlearn: 0.8196088\ttest: 0.8191566\tbest: 0.8191566 (750)\ttotal: 13.7s\tremaining: 2m 49s\n",
      "800:\tlearn: 0.8196141\ttest: 0.8191596\tbest: 0.8191596 (800)\ttotal: 14.6s\tremaining: 2m 47s\n",
      "850:\tlearn: 0.8196191\ttest: 0.8191624\tbest: 0.8191624 (849)\ttotal: 15.5s\tremaining: 2m 46s\n",
      "900:\tlearn: 0.8196239\ttest: 0.8191650\tbest: 0.8191650 (900)\ttotal: 16.3s\tremaining: 2m 44s\n",
      "950:\tlearn: 0.8196286\ttest: 0.8191673\tbest: 0.8191673 (949)\ttotal: 17.2s\tremaining: 2m 43s\n",
      "1000:\tlearn: 0.8196330\ttest: 0.8191698\tbest: 0.8191698 (999)\ttotal: 18.1s\tremaining: 2m 42s\n",
      "1050:\tlearn: 0.8196370\ttest: 0.8191714\tbest: 0.8191714 (1050)\ttotal: 19s\tremaining: 2m 41s\n",
      "1100:\tlearn: 0.8196401\ttest: 0.8191728\tbest: 0.8191728 (1098)\ttotal: 19.8s\tremaining: 2m 40s\n",
      "1150:\tlearn: 0.8196433\ttest: 0.8191741\tbest: 0.8191741 (1150)\ttotal: 20.7s\tremaining: 2m 39s\n",
      "1200:\tlearn: 0.8196462\ttest: 0.8191753\tbest: 0.8191753 (1200)\ttotal: 21.6s\tremaining: 2m 38s\n",
      "1250:\tlearn: 0.8196495\ttest: 0.8191768\tbest: 0.8191768 (1250)\ttotal: 22.5s\tremaining: 2m 37s\n",
      "1300:\tlearn: 0.8196523\ttest: 0.8191780\tbest: 0.8191780 (1297)\ttotal: 23.3s\tremaining: 2m 36s\n",
      "1350:\tlearn: 0.8196556\ttest: 0.8191790\tbest: 0.8191790 (1349)\ttotal: 24.2s\tremaining: 2m 34s\n",
      "1400:\tlearn: 0.8196585\ttest: 0.8191801\tbest: 0.8191801 (1400)\ttotal: 25.1s\tremaining: 2m 33s\n",
      "1450:\tlearn: 0.8196613\ttest: 0.8191808\tbest: 0.8191809 (1442)\ttotal: 26s\tremaining: 2m 32s\n",
      "1500:\tlearn: 0.8196642\ttest: 0.8191815\tbest: 0.8191815 (1500)\ttotal: 26.8s\tremaining: 2m 31s\n",
      "1550:\tlearn: 0.8196669\ttest: 0.8191821\tbest: 0.8191821 (1547)\ttotal: 27.7s\tremaining: 2m 30s\n",
      "1600:\tlearn: 0.8196696\ttest: 0.8191829\tbest: 0.8191829 (1596)\ttotal: 28.6s\tremaining: 2m 29s\n",
      "1650:\tlearn: 0.8196724\ttest: 0.8191836\tbest: 0.8191837 (1649)\ttotal: 29.4s\tremaining: 2m 28s\n",
      "1700:\tlearn: 0.8196748\ttest: 0.8191844\tbest: 0.8191844 (1696)\ttotal: 30.3s\tremaining: 2m 27s\n",
      "1750:\tlearn: 0.8196776\ttest: 0.8191847\tbest: 0.8191848 (1749)\ttotal: 31.1s\tremaining: 2m 26s\n",
      "1800:\tlearn: 0.8196800\ttest: 0.8191850\tbest: 0.8191850 (1795)\ttotal: 32s\tremaining: 2m 25s\n",
      "1850:\tlearn: 0.8196824\ttest: 0.8191854\tbest: 0.8191854 (1849)\ttotal: 32.8s\tremaining: 2m 24s\n",
      "1900:\tlearn: 0.8196854\ttest: 0.8191860\tbest: 0.8191860 (1890)\ttotal: 33.7s\tremaining: 2m 23s\n",
      "1950:\tlearn: 0.8196881\ttest: 0.8191861\tbest: 0.8191863 (1943)\ttotal: 34.6s\tremaining: 2m 22s\n",
      "2000:\tlearn: 0.8196906\ttest: 0.8191864\tbest: 0.8191864 (1991)\ttotal: 35.5s\tremaining: 2m 21s\n",
      "2050:\tlearn: 0.8196930\ttest: 0.8191866\tbest: 0.8191867 (2046)\ttotal: 36.3s\tremaining: 2m 20s\n",
      "2100:\tlearn: 0.8196953\ttest: 0.8191869\tbest: 0.8191869 (2098)\ttotal: 37.2s\tremaining: 2m 19s\n",
      "2150:\tlearn: 0.8196978\ttest: 0.8191870\tbest: 0.8191870 (2138)\ttotal: 38.1s\tremaining: 2m 18s\n",
      "2200:\tlearn: 0.8197001\ttest: 0.8191874\tbest: 0.8191874 (2192)\ttotal: 39s\tremaining: 2m 18s\n",
      "2250:\tlearn: 0.8197020\ttest: 0.8191874\tbest: 0.8191876 (2215)\ttotal: 39.8s\tremaining: 2m 17s\n",
      "bestTest = 0.8191875517\n",
      "bestIteration = 2215\n",
      "Shrink model to first 2216 iterations.\n",
      "fold n°1\n",
      "0:\tlearn: 0.8110192\ttest: 0.8110201\tbest: 0.8110201 (0)\ttotal: 31.2ms\tremaining: 5m 12s\n",
      "50:\tlearn: 0.8190110\ttest: 0.8188885\tbest: 0.8188885 (50)\ttotal: 906ms\tremaining: 2m 56s\n",
      "100:\tlearn: 0.8193287\ttest: 0.8192198\tbest: 0.8192198 (100)\ttotal: 1.77s\tremaining: 2m 53s\n",
      "150:\tlearn: 0.8194201\ttest: 0.8193093\tbest: 0.8193093 (150)\ttotal: 2.62s\tremaining: 2m 50s\n",
      "200:\tlearn: 0.8194481\ttest: 0.8193417\tbest: 0.8193417 (200)\ttotal: 3.49s\tremaining: 2m 50s\n",
      "250:\tlearn: 0.8194634\ttest: 0.8193580\tbest: 0.8193582 (249)\ttotal: 4.36s\tremaining: 2m 49s\n",
      "300:\tlearn: 0.8194732\ttest: 0.8193682\tbest: 0.8193682 (300)\ttotal: 5.23s\tremaining: 2m 48s\n",
      "350:\tlearn: 0.8194830\ttest: 0.8193782\tbest: 0.8193782 (350)\ttotal: 6.11s\tremaining: 2m 47s\n",
      "400:\tlearn: 0.8194916\ttest: 0.8193869\tbest: 0.8193869 (400)\ttotal: 6.98s\tremaining: 2m 47s\n",
      "450:\tlearn: 0.8194991\ttest: 0.8193934\tbest: 0.8193934 (450)\ttotal: 7.84s\tremaining: 2m 46s\n",
      "500:\tlearn: 0.8195075\ttest: 0.8194011\tbest: 0.8194011 (500)\ttotal: 8.7s\tremaining: 2m 44s\n",
      "550:\tlearn: 0.8195150\ttest: 0.8194068\tbest: 0.8194068 (550)\ttotal: 9.58s\tremaining: 2m 44s\n",
      "600:\tlearn: 0.8195219\ttest: 0.8194126\tbest: 0.8194126 (599)\ttotal: 10.5s\tremaining: 2m 43s\n",
      "650:\tlearn: 0.8195286\ttest: 0.8194176\tbest: 0.8194176 (650)\ttotal: 11.3s\tremaining: 2m 42s\n",
      "700:\tlearn: 0.8195343\ttest: 0.8194216\tbest: 0.8194216 (700)\ttotal: 12.2s\tremaining: 2m 42s\n",
      "750:\tlearn: 0.8195406\ttest: 0.8194256\tbest: 0.8194256 (750)\ttotal: 13.1s\tremaining: 2m 41s\n",
      "800:\tlearn: 0.8195460\ttest: 0.8194291\tbest: 0.8194291 (800)\ttotal: 14s\tremaining: 2m 40s\n",
      "850:\tlearn: 0.8195516\ttest: 0.8194331\tbest: 0.8194331 (850)\ttotal: 14.8s\tremaining: 2m 39s\n",
      "900:\tlearn: 0.8195562\ttest: 0.8194356\tbest: 0.8194356 (900)\ttotal: 15.7s\tremaining: 2m 38s\n",
      "950:\tlearn: 0.8195615\ttest: 0.8194387\tbest: 0.8194387 (950)\ttotal: 16.5s\tremaining: 2m 37s\n",
      "1000:\tlearn: 0.8195649\ttest: 0.8194402\tbest: 0.8194402 (996)\ttotal: 17.4s\tremaining: 2m 36s\n",
      "1050:\tlearn: 0.8195685\ttest: 0.8194420\tbest: 0.8194420 (1050)\ttotal: 18.3s\tremaining: 2m 35s\n",
      "1100:\tlearn: 0.8195723\ttest: 0.8194442\tbest: 0.8194442 (1100)\ttotal: 19.1s\tremaining: 2m 34s\n",
      "1150:\tlearn: 0.8195758\ttest: 0.8194457\tbest: 0.8194457 (1146)\ttotal: 20s\tremaining: 2m 33s\n",
      "1200:\tlearn: 0.8195789\ttest: 0.8194475\tbest: 0.8194475 (1200)\ttotal: 20.9s\tremaining: 2m 32s\n",
      "1250:\tlearn: 0.8195827\ttest: 0.8194489\tbest: 0.8194489 (1249)\ttotal: 21.7s\tremaining: 2m 32s\n",
      "1300:\tlearn: 0.8195859\ttest: 0.8194499\tbest: 0.8194500 (1299)\ttotal: 22.6s\tremaining: 2m 31s\n",
      "1350:\tlearn: 0.8195895\ttest: 0.8194518\tbest: 0.8194518 (1350)\ttotal: 23.5s\tremaining: 2m 30s\n",
      "1400:\tlearn: 0.8195924\ttest: 0.8194528\tbest: 0.8194528 (1395)\ttotal: 24.4s\tremaining: 2m 29s\n",
      "1450:\tlearn: 0.8195955\ttest: 0.8194539\tbest: 0.8194539 (1448)\ttotal: 25.2s\tremaining: 2m 28s\n",
      "1500:\tlearn: 0.8195982\ttest: 0.8194550\tbest: 0.8194550 (1498)\ttotal: 26.1s\tremaining: 2m 27s\n",
      "1550:\tlearn: 0.8196009\ttest: 0.8194562\tbest: 0.8194562 (1550)\ttotal: 27s\tremaining: 2m 27s\n",
      "1600:\tlearn: 0.8196037\ttest: 0.8194570\tbest: 0.8194570 (1599)\ttotal: 27.9s\tremaining: 2m 26s\n",
      "1650:\tlearn: 0.8196068\ttest: 0.8194578\tbest: 0.8194578 (1650)\ttotal: 28.7s\tremaining: 2m 25s\n",
      "1700:\tlearn: 0.8196093\ttest: 0.8194582\tbest: 0.8194582 (1690)\ttotal: 29.6s\tremaining: 2m 24s\n",
      "1750:\tlearn: 0.8196122\ttest: 0.8194591\tbest: 0.8194592 (1747)\ttotal: 30.4s\tremaining: 2m 23s\n",
      "1800:\tlearn: 0.8196145\ttest: 0.8194598\tbest: 0.8194598 (1798)\ttotal: 31.3s\tremaining: 2m 22s\n",
      "1850:\tlearn: 0.8196170\ttest: 0.8194604\tbest: 0.8194604 (1845)\ttotal: 32.2s\tremaining: 2m 21s\n",
      "1900:\tlearn: 0.8196195\ttest: 0.8194611\tbest: 0.8194611 (1898)\ttotal: 33s\tremaining: 2m 20s\n",
      "1950:\tlearn: 0.8196217\ttest: 0.8194614\tbest: 0.8194614 (1948)\ttotal: 33.9s\tremaining: 2m 19s\n",
      "2000:\tlearn: 0.8196239\ttest: 0.8194618\tbest: 0.8194618 (1995)\ttotal: 34.8s\tremaining: 2m 18s\n",
      "2050:\tlearn: 0.8196261\ttest: 0.8194622\tbest: 0.8194622 (2047)\ttotal: 35.6s\tremaining: 2m 18s\n",
      "2100:\tlearn: 0.8196283\ttest: 0.8194627\tbest: 0.8194627 (2098)\ttotal: 36.5s\tremaining: 2m 17s\n"
     ]
    },
    {
     "name": "stdout",
     "output_type": "stream",
     "text": [
      "2150:\tlearn: 0.8196306\ttest: 0.8194630\tbest: 0.8194631 (2139)\ttotal: 37.4s\tremaining: 2m 16s\n",
      "2200:\tlearn: 0.8196326\ttest: 0.8194632\tbest: 0.8194632 (2192)\ttotal: 38.3s\tremaining: 2m 15s\n",
      "2250:\tlearn: 0.8196349\ttest: 0.8194634\tbest: 0.8194634 (2250)\ttotal: 39.1s\tremaining: 2m 14s\n",
      "2300:\tlearn: 0.8196373\ttest: 0.8194633\tbest: 0.8194635 (2285)\ttotal: 40s\tremaining: 2m 13s\n",
      "2350:\tlearn: 0.8196393\ttest: 0.8194636\tbest: 0.8194636 (2337)\ttotal: 40.9s\tremaining: 2m 12s\n",
      "2400:\tlearn: 0.8196416\ttest: 0.8194641\tbest: 0.8194641 (2397)\ttotal: 41.7s\tremaining: 2m 11s\n",
      "2450:\tlearn: 0.8196437\ttest: 0.8194645\tbest: 0.8194645 (2448)\ttotal: 42.5s\tremaining: 2m 11s\n",
      "2500:\tlearn: 0.8196458\ttest: 0.8194645\tbest: 0.8194647 (2480)\ttotal: 43.4s\tremaining: 2m 10s\n",
      "2550:\tlearn: 0.8196482\ttest: 0.8194647\tbest: 0.8194648 (2546)\ttotal: 44.3s\tremaining: 2m 9s\n",
      "2600:\tlearn: 0.8196502\ttest: 0.8194650\tbest: 0.8194650 (2577)\ttotal: 45.2s\tremaining: 2m 8s\n",
      "bestTest = 0.8194650114\n",
      "bestIteration = 2577\n",
      "Shrink model to first 2578 iterations.\n",
      "fold n°2\n",
      "0:\tlearn: 0.8112046\ttest: 0.8116163\tbest: 0.8116163 (0)\ttotal: 32.7ms\tremaining: 5m 27s\n",
      "50:\tlearn: 0.8188094\ttest: 0.8190611\tbest: 0.8190611 (50)\ttotal: 896ms\tremaining: 2m 54s\n",
      "100:\tlearn: 0.8192599\ttest: 0.8195342\tbest: 0.8195342 (100)\ttotal: 1.77s\tremaining: 2m 53s\n",
      "150:\tlearn: 0.8193460\ttest: 0.8196124\tbest: 0.8196134 (148)\ttotal: 2.65s\tremaining: 2m 53s\n",
      "200:\tlearn: 0.8193679\ttest: 0.8196318\tbest: 0.8196318 (200)\ttotal: 3.55s\tremaining: 2m 52s\n",
      "250:\tlearn: 0.8193879\ttest: 0.8196532\tbest: 0.8196532 (249)\ttotal: 4.41s\tremaining: 2m 51s\n",
      "300:\tlearn: 0.8193989\ttest: 0.8196634\tbest: 0.8196634 (300)\ttotal: 5.28s\tremaining: 2m 50s\n",
      "350:\tlearn: 0.8194086\ttest: 0.8196720\tbest: 0.8196720 (350)\ttotal: 6.15s\tremaining: 2m 49s\n",
      "400:\tlearn: 0.8194174\ttest: 0.8196798\tbest: 0.8196798 (400)\ttotal: 7.03s\tremaining: 2m 48s\n",
      "450:\tlearn: 0.8194258\ttest: 0.8196872\tbest: 0.8196872 (450)\ttotal: 7.91s\tremaining: 2m 47s\n",
      "500:\tlearn: 0.8194327\ttest: 0.8196929\tbest: 0.8196929 (499)\ttotal: 8.79s\tremaining: 2m 46s\n",
      "550:\tlearn: 0.8194406\ttest: 0.8196990\tbest: 0.8196990 (550)\ttotal: 9.66s\tremaining: 2m 45s\n",
      "600:\tlearn: 0.8194479\ttest: 0.8197047\tbest: 0.8197047 (599)\ttotal: 10.5s\tremaining: 2m 44s\n",
      "650:\tlearn: 0.8194543\ttest: 0.8197098\tbest: 0.8197098 (650)\ttotal: 11.4s\tremaining: 2m 44s\n",
      "700:\tlearn: 0.8194603\ttest: 0.8197141\tbest: 0.8197141 (700)\ttotal: 12.3s\tremaining: 2m 43s\n",
      "750:\tlearn: 0.8194651\ttest: 0.8197174\tbest: 0.8197174 (749)\ttotal: 13.2s\tremaining: 2m 42s\n",
      "800:\tlearn: 0.8194704\ttest: 0.8197204\tbest: 0.8197204 (800)\ttotal: 14s\tremaining: 2m 41s\n",
      "850:\tlearn: 0.8194756\ttest: 0.8197233\tbest: 0.8197233 (850)\ttotal: 14.9s\tremaining: 2m 40s\n",
      "900:\tlearn: 0.8194803\ttest: 0.8197265\tbest: 0.8197265 (899)\ttotal: 15.8s\tremaining: 2m 39s\n",
      "950:\tlearn: 0.8194846\ttest: 0.8197290\tbest: 0.8197290 (949)\ttotal: 16.7s\tremaining: 2m 38s\n",
      "1000:\tlearn: 0.8194885\ttest: 0.8197313\tbest: 0.8197313 (998)\ttotal: 17.5s\tremaining: 2m 37s\n",
      "1050:\tlearn: 0.8194922\ttest: 0.8197331\tbest: 0.8197331 (1050)\ttotal: 18.4s\tremaining: 2m 36s\n",
      "1100:\tlearn: 0.8194954\ttest: 0.8197347\tbest: 0.8197347 (1100)\ttotal: 19.3s\tremaining: 2m 35s\n",
      "1150:\tlearn: 0.8194991\ttest: 0.8197368\tbest: 0.8197368 (1150)\ttotal: 20.2s\tremaining: 2m 35s\n",
      "1200:\tlearn: 0.8195027\ttest: 0.8197385\tbest: 0.8197385 (1200)\ttotal: 21.1s\tremaining: 2m 34s\n",
      "1250:\tlearn: 0.8195063\ttest: 0.8197403\tbest: 0.8197403 (1248)\ttotal: 22.1s\tremaining: 2m 34s\n",
      "1300:\tlearn: 0.8195089\ttest: 0.8197416\tbest: 0.8197416 (1295)\ttotal: 23s\tremaining: 2m 33s\n",
      "1350:\tlearn: 0.8195117\ttest: 0.8197428\tbest: 0.8197428 (1349)\ttotal: 23.9s\tremaining: 2m 33s\n",
      "1400:\tlearn: 0.8195153\ttest: 0.8197443\tbest: 0.8197443 (1398)\ttotal: 24.8s\tremaining: 2m 32s\n",
      "1450:\tlearn: 0.8195179\ttest: 0.8197453\tbest: 0.8197453 (1449)\ttotal: 25.7s\tremaining: 2m 31s\n",
      "1500:\tlearn: 0.8195207\ttest: 0.8197464\tbest: 0.8197465 (1499)\ttotal: 26.6s\tremaining: 2m 30s\n",
      "1550:\tlearn: 0.8195232\ttest: 0.8197475\tbest: 0.8197475 (1549)\ttotal: 27.5s\tremaining: 2m 29s\n",
      "1600:\tlearn: 0.8195260\ttest: 0.8197484\tbest: 0.8197484 (1596)\ttotal: 28.3s\tremaining: 2m 28s\n",
      "1650:\tlearn: 0.8195289\ttest: 0.8197494\tbest: 0.8197494 (1648)\ttotal: 29.2s\tremaining: 2m 27s\n",
      "1700:\tlearn: 0.8195312\ttest: 0.8197500\tbest: 0.8197501 (1699)\ttotal: 30.1s\tremaining: 2m 26s\n",
      "1750:\tlearn: 0.8195336\ttest: 0.8197507\tbest: 0.8197508 (1744)\ttotal: 31s\tremaining: 2m 25s\n",
      "1800:\tlearn: 0.8195362\ttest: 0.8197514\tbest: 0.8197514 (1800)\ttotal: 31.9s\tremaining: 2m 25s\n",
      "1850:\tlearn: 0.8195389\ttest: 0.8197519\tbest: 0.8197519 (1833)\ttotal: 32.8s\tremaining: 2m 24s\n",
      "1900:\tlearn: 0.8195413\ttest: 0.8197526\tbest: 0.8197526 (1899)\ttotal: 33.7s\tremaining: 2m 23s\n",
      "1950:\tlearn: 0.8195440\ttest: 0.8197532\tbest: 0.8197532 (1949)\ttotal: 34.5s\tremaining: 2m 22s\n",
      "2000:\tlearn: 0.8195468\ttest: 0.8197535\tbest: 0.8197536 (1983)\ttotal: 35.4s\tremaining: 2m 21s\n",
      "2050:\tlearn: 0.8195489\ttest: 0.8197539\tbest: 0.8197539 (2049)\ttotal: 36.3s\tremaining: 2m 20s\n",
      "2100:\tlearn: 0.8195516\ttest: 0.8197540\tbest: 0.8197540 (2065)\ttotal: 37.1s\tremaining: 2m 19s\n",
      "2150:\tlearn: 0.8195541\ttest: 0.8197543\tbest: 0.8197545 (2148)\ttotal: 38s\tremaining: 2m 18s\n",
      "2200:\tlearn: 0.8195560\ttest: 0.8197548\tbest: 0.8197549 (2199)\ttotal: 38.9s\tremaining: 2m 17s\n",
      "2250:\tlearn: 0.8195581\ttest: 0.8197549\tbest: 0.8197550 (2229)\ttotal: 39.8s\tremaining: 2m 16s\n",
      "bestTest = 0.8197550476\n",
      "bestIteration = 2229\n",
      "Shrink model to first 2230 iterations.\n",
      "fold n°3\n",
      "0:\tlearn: 0.8112011\ttest: 0.8109459\tbest: 0.8109459 (0)\ttotal: 31.8ms\tremaining: 5m 18s\n",
      "50:\tlearn: 0.8190126\ttest: 0.8187625\tbest: 0.8187625 (50)\ttotal: 901ms\tremaining: 2m 55s\n",
      "100:\tlearn: 0.8194128\ttest: 0.8191305\tbest: 0.8191305 (100)\ttotal: 1.78s\tremaining: 2m 54s\n",
      "150:\tlearn: 0.8194604\ttest: 0.8191766\tbest: 0.8191769 (148)\ttotal: 2.65s\tremaining: 2m 53s\n",
      "200:\tlearn: 0.8194894\ttest: 0.8192061\tbest: 0.8192061 (200)\ttotal: 3.51s\tremaining: 2m 51s\n",
      "250:\tlearn: 0.8195039\ttest: 0.8192222\tbest: 0.8192223 (249)\ttotal: 4.38s\tremaining: 2m 49s\n",
      "300:\tlearn: 0.8195145\ttest: 0.8192326\tbest: 0.8192326 (300)\ttotal: 5.21s\tremaining: 2m 47s\n",
      "350:\tlearn: 0.8195231\ttest: 0.8192406\tbest: 0.8192406 (350)\ttotal: 6.07s\tremaining: 2m 46s\n",
      "400:\tlearn: 0.8195313\ttest: 0.8192479\tbest: 0.8192479 (400)\ttotal: 6.91s\tremaining: 2m 45s\n",
      "450:\tlearn: 0.8195391\ttest: 0.8192537\tbest: 0.8192537 (450)\ttotal: 7.73s\tremaining: 2m 43s\n",
      "500:\tlearn: 0.8195485\ttest: 0.8192593\tbest: 0.8192593 (500)\ttotal: 8.55s\tremaining: 2m 42s\n",
      "550:\tlearn: 0.8195565\ttest: 0.8192638\tbest: 0.8192638 (550)\ttotal: 9.44s\tremaining: 2m 41s\n",
      "600:\tlearn: 0.8195640\ttest: 0.8192679\tbest: 0.8192679 (600)\ttotal: 10.3s\tremaining: 2m 41s\n",
      "650:\tlearn: 0.8195704\ttest: 0.8192714\tbest: 0.8192714 (649)\ttotal: 11.2s\tremaining: 2m 40s\n",
      "700:\tlearn: 0.8195769\ttest: 0.8192743\tbest: 0.8192743 (699)\ttotal: 12.1s\tremaining: 2m 40s\n",
      "750:\tlearn: 0.8195833\ttest: 0.8192771\tbest: 0.8192771 (748)\ttotal: 12.9s\tremaining: 2m 39s\n",
      "800:\tlearn: 0.8195885\ttest: 0.8192795\tbest: 0.8192795 (799)\ttotal: 13.8s\tremaining: 2m 38s\n",
      "850:\tlearn: 0.8195934\ttest: 0.8192814\tbest: 0.8192814 (847)\ttotal: 14.7s\tremaining: 2m 37s\n",
      "900:\tlearn: 0.8195977\ttest: 0.8192831\tbest: 0.8192831 (900)\ttotal: 15.6s\tremaining: 2m 37s\n",
      "950:\tlearn: 0.8196022\ttest: 0.8192847\tbest: 0.8192847 (947)\ttotal: 16.4s\tremaining: 2m 36s\n",
      "1000:\tlearn: 0.8196066\ttest: 0.8192856\tbest: 0.8192856 (993)\ttotal: 17.3s\tremaining: 2m 35s\n",
      "1050:\tlearn: 0.8196106\ttest: 0.8192870\tbest: 0.8192871 (1049)\ttotal: 18.2s\tremaining: 2m 34s\n",
      "1100:\tlearn: 0.8196141\ttest: 0.8192877\tbest: 0.8192878 (1096)\ttotal: 19.1s\tremaining: 2m 34s\n",
      "1150:\tlearn: 0.8196175\ttest: 0.8192885\tbest: 0.8192885 (1149)\ttotal: 19.9s\tremaining: 2m 33s\n",
      "1200:\tlearn: 0.8196208\ttest: 0.8192893\tbest: 0.8192893 (1200)\ttotal: 20.8s\tremaining: 2m 32s\n",
      "1250:\tlearn: 0.8196239\ttest: 0.8192898\tbest: 0.8192899 (1246)\ttotal: 21.7s\tremaining: 2m 31s\n",
      "1300:\tlearn: 0.8196272\ttest: 0.8192906\tbest: 0.8192906 (1300)\ttotal: 22.5s\tremaining: 2m 30s\n",
      "1350:\tlearn: 0.8196304\ttest: 0.8192913\tbest: 0.8192913 (1350)\ttotal: 23.4s\tremaining: 2m 29s\n",
      "1400:\tlearn: 0.8196337\ttest: 0.8192918\tbest: 0.8192918 (1400)\ttotal: 24.3s\tremaining: 2m 29s\n",
      "1450:\tlearn: 0.8196369\ttest: 0.8192920\tbest: 0.8192921 (1447)\ttotal: 25.2s\tremaining: 2m 28s\n",
      "1500:\tlearn: 0.8196401\ttest: 0.8192925\tbest: 0.8192925 (1494)\ttotal: 26s\tremaining: 2m 27s\n",
      "1550:\tlearn: 0.8196434\ttest: 0.8192928\tbest: 0.8192928 (1541)\ttotal: 26.9s\tremaining: 2m 26s\n"
     ]
    },
    {
     "name": "stdout",
     "output_type": "stream",
     "text": [
      "1600:\tlearn: 0.8196464\ttest: 0.8192925\tbest: 0.8192928 (1573)\ttotal: 27.8s\tremaining: 2m 25s\n",
      "bestTest = 0.8192928135\n",
      "bestIteration = 1573\n",
      "Shrink model to first 1574 iterations.\n",
      "fold n°4\n",
      "0:\tlearn: 0.8108555\ttest: 0.8110279\tbest: 0.8110279 (0)\ttotal: 32.3ms\tremaining: 5m 23s\n",
      "50:\tlearn: 0.8188542\ttest: 0.8192144\tbest: 0.8192144 (50)\ttotal: 906ms\tremaining: 2m 56s\n",
      "100:\tlearn: 0.8192651\ttest: 0.8196292\tbest: 0.8196292 (100)\ttotal: 1.78s\tremaining: 2m 55s\n",
      "150:\tlearn: 0.8193276\ttest: 0.8196915\tbest: 0.8196915 (150)\ttotal: 2.66s\tremaining: 2m 53s\n",
      "200:\tlearn: 0.8193562\ttest: 0.8197163\tbest: 0.8197165 (198)\ttotal: 3.54s\tremaining: 2m 52s\n",
      "250:\tlearn: 0.8193729\ttest: 0.8197318\tbest: 0.8197318 (249)\ttotal: 4.41s\tremaining: 2m 51s\n",
      "300:\tlearn: 0.8193841\ttest: 0.8197418\tbest: 0.8197418 (300)\ttotal: 5.28s\tremaining: 2m 50s\n",
      "350:\tlearn: 0.8193930\ttest: 0.8197490\tbest: 0.8197490 (350)\ttotal: 6.15s\tremaining: 2m 49s\n",
      "400:\tlearn: 0.8194019\ttest: 0.8197547\tbest: 0.8197547 (399)\ttotal: 7.03s\tremaining: 2m 48s\n",
      "450:\tlearn: 0.8194091\ttest: 0.8197599\tbest: 0.8197599 (450)\ttotal: 7.9s\tremaining: 2m 47s\n",
      "500:\tlearn: 0.8194173\ttest: 0.8197656\tbest: 0.8197656 (499)\ttotal: 8.77s\tremaining: 2m 46s\n",
      "550:\tlearn: 0.8194252\ttest: 0.8197701\tbest: 0.8197701 (549)\ttotal: 9.65s\tremaining: 2m 45s\n",
      "600:\tlearn: 0.8194325\ttest: 0.8197749\tbest: 0.8197749 (600)\ttotal: 10.5s\tremaining: 2m 44s\n",
      "650:\tlearn: 0.8194404\ttest: 0.8197801\tbest: 0.8197801 (650)\ttotal: 11.4s\tremaining: 2m 43s\n",
      "700:\tlearn: 0.8194456\ttest: 0.8197839\tbest: 0.8197839 (699)\ttotal: 12.3s\tremaining: 2m 42s\n",
      "750:\tlearn: 0.8194514\ttest: 0.8197876\tbest: 0.8197876 (750)\ttotal: 13.2s\tremaining: 2m 42s\n",
      "800:\tlearn: 0.8194569\ttest: 0.8197905\tbest: 0.8197905 (800)\ttotal: 14s\tremaining: 2m 41s\n",
      "850:\tlearn: 0.8194619\ttest: 0.8197930\tbest: 0.8197930 (850)\ttotal: 14.9s\tremaining: 2m 40s\n",
      "900:\tlearn: 0.8194662\ttest: 0.8197950\tbest: 0.8197950 (900)\ttotal: 15.8s\tremaining: 2m 39s\n",
      "950:\tlearn: 0.8194705\ttest: 0.8197972\tbest: 0.8197972 (950)\ttotal: 16.6s\tremaining: 2m 38s\n",
      "1000:\tlearn: 0.8194747\ttest: 0.8197988\tbest: 0.8197988 (999)\ttotal: 17.5s\tremaining: 2m 37s\n",
      "1050:\tlearn: 0.8194787\ttest: 0.8198004\tbest: 0.8198004 (1050)\ttotal: 18.4s\tremaining: 2m 36s\n",
      "1100:\tlearn: 0.8194828\ttest: 0.8198023\tbest: 0.8198023 (1100)\ttotal: 19.3s\tremaining: 2m 35s\n",
      "1150:\tlearn: 0.8194862\ttest: 0.8198038\tbest: 0.8198038 (1149)\ttotal: 20.1s\tremaining: 2m 34s\n",
      "1200:\tlearn: 0.8194897\ttest: 0.8198051\tbest: 0.8198051 (1198)\ttotal: 21s\tremaining: 2m 33s\n",
      "1250:\tlearn: 0.8194930\ttest: 0.8198062\tbest: 0.8198062 (1250)\ttotal: 21.9s\tremaining: 2m 32s\n",
      "1300:\tlearn: 0.8194964\ttest: 0.8198074\tbest: 0.8198074 (1296)\ttotal: 22.7s\tremaining: 2m 32s\n",
      "1350:\tlearn: 0.8194996\ttest: 0.8198082\tbest: 0.8198082 (1349)\ttotal: 23.6s\tremaining: 2m 31s\n",
      "1400:\tlearn: 0.8195030\ttest: 0.8198093\tbest: 0.8198093 (1399)\ttotal: 24.5s\tremaining: 2m 30s\n",
      "1450:\tlearn: 0.8195060\ttest: 0.8198102\tbest: 0.8198102 (1447)\ttotal: 25.4s\tremaining: 2m 29s\n",
      "1500:\tlearn: 0.8195087\ttest: 0.8198109\tbest: 0.8198109 (1499)\ttotal: 26.2s\tremaining: 2m 28s\n",
      "1550:\tlearn: 0.8195116\ttest: 0.8198119\tbest: 0.8198119 (1549)\ttotal: 27.1s\tremaining: 2m 27s\n",
      "1600:\tlearn: 0.8195142\ttest: 0.8198124\tbest: 0.8198125 (1587)\ttotal: 28s\tremaining: 2m 26s\n",
      "1650:\tlearn: 0.8195168\ttest: 0.8198128\tbest: 0.8198128 (1650)\ttotal: 28.9s\tremaining: 2m 25s\n",
      "1700:\tlearn: 0.8195195\ttest: 0.8198133\tbest: 0.8198133 (1698)\ttotal: 29.7s\tremaining: 2m 24s\n",
      "1750:\tlearn: 0.8195221\ttest: 0.8198140\tbest: 0.8198140 (1747)\ttotal: 30.6s\tremaining: 2m 24s\n",
      "1800:\tlearn: 0.8195245\ttest: 0.8198144\tbest: 0.8198144 (1799)\ttotal: 31.5s\tremaining: 2m 23s\n",
      "1850:\tlearn: 0.8195269\ttest: 0.8198147\tbest: 0.8198147 (1849)\ttotal: 32.3s\tremaining: 2m 22s\n",
      "1900:\tlearn: 0.8195296\ttest: 0.8198152\tbest: 0.8198153 (1897)\ttotal: 33.2s\tremaining: 2m 21s\n",
      "1950:\tlearn: 0.8195319\ttest: 0.8198159\tbest: 0.8198159 (1950)\ttotal: 34.1s\tremaining: 2m 20s\n",
      "2000:\tlearn: 0.8195346\ttest: 0.8198166\tbest: 0.8198166 (2000)\ttotal: 34.9s\tremaining: 2m 19s\n",
      "2050:\tlearn: 0.8195371\ttest: 0.8198172\tbest: 0.8198172 (2050)\ttotal: 35.8s\tremaining: 2m 18s\n",
      "2100:\tlearn: 0.8195395\ttest: 0.8198174\tbest: 0.8198175 (2088)\ttotal: 36.7s\tremaining: 2m 17s\n",
      "2150:\tlearn: 0.8195416\ttest: 0.8198177\tbest: 0.8198178 (2141)\ttotal: 37.6s\tremaining: 2m 17s\n",
      "2200:\tlearn: 0.8195441\ttest: 0.8198180\tbest: 0.8198182 (2197)\ttotal: 38.4s\tremaining: 2m 15s\n",
      "2250:\tlearn: 0.8195466\ttest: 0.8198183\tbest: 0.8198183 (2245)\ttotal: 39.2s\tremaining: 2m 14s\n",
      "2300:\tlearn: 0.8195488\ttest: 0.8198184\tbest: 0.8198184 (2264)\ttotal: 40s\tremaining: 2m 13s\n",
      "2350:\tlearn: 0.8195507\ttest: 0.8198184\tbest: 0.8198185 (2309)\ttotal: 40.9s\tremaining: 2m 13s\n",
      "2400:\tlearn: 0.8195532\ttest: 0.8198184\tbest: 0.8198187 (2365)\ttotal: 41.8s\tremaining: 2m 12s\n",
      "bestTest = 0.8198187053\n",
      "bestIteration = 2365\n",
      "Shrink model to first 2366 iterations.\n"
     ]
    }
   ],
   "source": [
    "#   五折交叉\n",
    "from sklearn.model_selection import StratifiedKFold\n",
    "# folds = StratifiedKFold(n_splits=5, shuffle=True, random_state=2020)\n",
    "# oof =  np.zeros(len(train_df)) \n",
    "# predictions =np.zeros(len(test_df))\n",
    "# y_train = train_df['label']\n",
    "folds = StratifiedKFold(n_splits=5, shuffle=True, random_state=15)\n",
    "stack_test = np.zeros((len(test_df),1))\n",
    "oof =  np.zeros(len(train_df)) \n",
    "\n",
    "for fold_, (trn, val) in enumerate(folds.split(train_df, target)):\n",
    "    print(\"fold n°{}\".format(fold_))\n",
    "    trn_x = train_df.iloc[trn]\n",
    "    trn_y = target.iloc[trn]\n",
    "    val_x = train_df.iloc[val]\n",
    "    val_y = target.iloc[val]\n",
    "\n",
    "    clf = CatBoostClassifier(iterations=10000, depth=6,learning_rate=0.01, l2_leaf_reg=50, loss_function='Logloss'\n",
    "                        ,verbose=True,eval_metric='AUC',counter_calc_method='Full',task_type='GPU',devices='0-3',metric_period=50)\n",
    "    clf.fit(\n",
    "    trn_x, trn_y.astype('int32'),\n",
    "    eval_set=[(val_x,val_y.astype('int32'))],\n",
    "    early_stopping_rounds=50,\n",
    "    verbose=True,\n",
    "    use_best_model=True)\n",
    "    \n",
    "    oof[val] = clf.predict_proba(train_df.iloc[val])[:, 1]\n",
    "    stack_test += clf.predict_proba(test_df)[:, 1].reshape(-1,1)/5"
   ]
  },
  {
   "cell_type": "code",
   "execution_count": 15,
   "metadata": {},
   "outputs": [
    {
     "name": "stdout",
     "output_type": "stream",
     "text": [
      "AUC Score (Valid): 0.819499\n",
      "开始储存\n"
     ]
    },
    {
     "data": {
      "text/html": [
       "<div>\n",
       "<style scoped>\n",
       "    .dataframe tbody tr th:only-of-type {\n",
       "        vertical-align: middle;\n",
       "    }\n",
       "\n",
       "    .dataframe tbody tr th {\n",
       "        vertical-align: top;\n",
       "    }\n",
       "\n",
       "    .dataframe thead th {\n",
       "        text-align: right;\n",
       "    }\n",
       "</style>\n",
       "<table border=\"1\" class=\"dataframe\">\n",
       "  <thead>\n",
       "    <tr style=\"text-align: right;\">\n",
       "      <th></th>\n",
       "      <th>id</th>\n",
       "      <th>probability</th>\n",
       "    </tr>\n",
       "  </thead>\n",
       "  <tbody>\n",
       "    <tr>\n",
       "      <th>0</th>\n",
       "      <td>1</td>\n",
       "      <td>0.055068</td>\n",
       "    </tr>\n",
       "    <tr>\n",
       "      <th>1</th>\n",
       "      <td>2</td>\n",
       "      <td>0.385407</td>\n",
       "    </tr>\n",
       "    <tr>\n",
       "      <th>2</th>\n",
       "      <td>3</td>\n",
       "      <td>0.294157</td>\n",
       "    </tr>\n",
       "    <tr>\n",
       "      <th>3</th>\n",
       "      <td>4</td>\n",
       "      <td>0.071076</td>\n",
       "    </tr>\n",
       "    <tr>\n",
       "      <th>4</th>\n",
       "      <td>5</td>\n",
       "      <td>0.571922</td>\n",
       "    </tr>\n",
       "  </tbody>\n",
       "</table>\n",
       "</div>"
      ],
      "text/plain": [
       "   id  probability\n",
       "0   1     0.055068\n",
       "1   2     0.385407\n",
       "2   3     0.294157\n",
       "3   4     0.071076\n",
       "4   5     0.571922"
      ]
     },
     "execution_count": 15,
     "metadata": {},
     "output_type": "execute_result"
    }
   ],
   "source": [
    "auc_score =roc_auc_score(target, oof)\n",
    "print(\"AUC Score (Valid): %f\" % auc_score)\n",
    "print('开始储存')\n",
    "res = pd.DataFrame()\n",
    "res['id'] = list(range(1,len(test_df)+1))\n",
    "res['probability'] = stack_test\n",
    "res.to_csv('cbt_stacking_seed_{}_{}.csv'.format(MY_SEED, auc_score),index = False)\n",
    "res.head(5)"
   ]
  },
  {
   "cell_type": "code",
   "execution_count": 15,
   "metadata": {},
   "outputs": [
    {
     "name": "stdout",
     "output_type": "stream",
     "text": [
      "-- Mem. usage decreased to 11.44 Mb (62.5% reduction),time spend:0.00 min\n"
     ]
    }
   ],
   "source": [
    "res=reduce_mem(res)\n",
    "res.to_csv('submission.csv'.format(auc_score),index = False)"
   ]
  },
  {
   "cell_type": "code",
   "execution_count": null,
   "metadata": {},
   "outputs": [],
   "source": []
  }
 ],
 "metadata": {
  "kernelspec": {
   "display_name": "Python 3",
   "language": "python",
   "name": "python3"
  },
  "language_info": {
   "codemirror_mode": {
    "name": "ipython",
    "version": 3
   },
   "file_extension": ".py",
   "mimetype": "text/x-python",
   "name": "python",
   "nbconvert_exporter": "python",
   "pygments_lexer": "ipython3",
   "version": "3.7.3"
  }
 },
 "nbformat": 4,
 "nbformat_minor": 2
}
